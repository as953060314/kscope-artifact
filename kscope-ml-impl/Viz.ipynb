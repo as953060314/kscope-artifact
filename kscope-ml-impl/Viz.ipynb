{
 "cells": [
  {
   "cell_type": "code",
   "execution_count": 9,
   "metadata": {},
   "outputs": [],
   "source": [
    "import numpy as np\n",
    "import seaborn as sns\n",
    "import os\n",
    "import pickle\n",
    "import time\n",
    "# from matplotlib import pyplot as plt\n",
    "from pprint import pprint\n",
    "# import mplpub"
   ]
  },
  {
   "cell_type": "code",
   "execution_count": 10,
   "metadata": {},
   "outputs": [],
   "source": [
    "# mplpub.setup_style()\n",
    "font_size = 8"
   ]
  },
  {
   "cell_type": "code",
   "execution_count": 11,
   "metadata": {},
   "outputs": [],
   "source": [
    "import matplotlib\n",
    "matplotlib.use('agg')  # generate postscript output by default\n",
    "import matplotlib.pyplot as plt\n",
    "from matplotlib import rc\n",
    "\n",
    "plt.style.use('classic')\n",
    "plt.set_cmap(plt.cm.viridis)\n",
    "\n",
    "    # rc('text', usetex=True)\n",
    "plt.rcParams['axes.grid'] = True\n",
    "plt.rcParams['axes.labelpad'] = 0\n",
    "plt.rcParams['grid.color'] = 'k'\n",
    "plt.rcParams['grid.linestyle'] = ':'\n",
    "plt.rcParams['grid.linewidth'] = 0.5\n",
    "\n",
    "plt.rcParams['axes.linewidth'] = 1.5\n",
    "plt.rcParams['axes.labelweight'] = 'bold'\n",
    "plt.rcParams['font.size'] = font_size\n",
    "plt.rcParams['axes.labelsize'] = font_size\n",
    "plt.rcParams['axes.titlesize'] = font_size\n",
    "plt.rcParams['xtick.labelsize'] = font_size \n",
    "plt.rcParams['ytick.labelsize'] = font_size \n",
    "plt.rcParams['legend.fontsize'] = font_size \n",
    "plt.rcParams['figure.titlesize'] = font_size\n",
    "# plt.rcParams['savefig.bbox'] = 'tight' # not compatible with animations\n",
    "# plt.rcParams['savefig.pad_inches'] : 0.025      # Padding to be used when bbox is set to 'tight'\n",
    "plt.rcParams['figure.figsize'] = [3.5, 1.2]  # IEEE half column and golden ratio\n"
   ]
  },
  {
   "cell_type": "code",
   "execution_count": 12,
   "metadata": {},
   "outputs": [],
   "source": [
    "class Viz:\n",
    "    def __init__(self, outlier_ddir, mat_dir):\n",
    "        self.outlier_ddir = outlier_ddir\n",
    "        self.scratch_dir = mat_dir + os.sep + \"scratch\"\n",
    "        self.projects_dir = mat_dir + os.sep + \"projects\"\n",
    "        self.home_dir = mat_dir + os.sep + \"home\"\n",
    "        self.outliers_db = {}\n",
    "        self.load_outliers()\n",
    "    \n",
    "    def load_outliers(self):\n",
    "        files = os.listdir(self.outlier_ddir)\n",
    "        files = [self.outlier_ddir + os.sep + f for f in files]\n",
    "        for f in files:\n",
    "            if \"fail\" in f:\n",
    "                continue\n",
    "            data = pickle.load(open(f, 'rb'))\n",
    "            for d in data:\n",
    "                if len(data[d]) > 0:\n",
    "                    for item in data[d]:\n",
    "                        if data[d][item] < 0.3:\n",
    "                            if d not in self.outliers_db:\n",
    "                                self.outliers_db[d] = {}\n",
    "                            self.outliers_db[d][item] =  data[d][item]\n",
    "    def disp_outliers(self):\n",
    "        ordered_keys = sorted(self.outliers_db.keys())\n",
    "        for d in ordered_keys:\n",
    "            print(time.ctime(d), d,  self.outliers_db[d])\n",
    "    \n",
    "    \n",
    "    def get_mat_data(self, ts):\n",
    "        s_db = {}\n",
    "        p_db = {}\n",
    "        h_db = {}\n",
    "        file_ts = ts - 6*3600\n",
    "        s_db[\"success\"] = pickle.load(open(self.scratch_dir + os.sep + time.strftime(\"%Y%m%d\", time.localtime(file_ts)) + \".success\", 'rb'))\n",
    "        h_db[\"success\"] = pickle.load(open(self.home_dir + os.sep + time.strftime(\"%Y%m%d\", time.localtime(file_ts)) + \".success\", 'rb'))\n",
    "        p_db[\"success\"] = pickle.load(open(self.projects_dir + os.sep + time.strftime(\"%Y%m%d\", time.localtime(file_ts)) + \".success\", 'rb'))\n",
    "        s_db[\"failed\"] = pickle.load(open(self.scratch_dir + os.sep + time.strftime(\"%Y%m%d\", time.localtime(file_ts)) + \".failed\", 'rb'))\n",
    "        h_db[\"failed\"] = pickle.load(open(self.home_dir + os.sep + time.strftime(\"%Y%m%d\", time.localtime(file_ts)) + \".failed\", 'rb'))\n",
    "        p_db[\"failed\"] = pickle.load(open(self.projects_dir + os.sep + time.strftime(\"%Y%m%d\", time.localtime(file_ts)) + \".failed\", 'rb'))\n",
    "        return np.reshape(s_db[\"success\"][ts], (-1, 360)), np.reshape(p_db[\"success\"][ts], (-1, 36)), np.reshape(h_db[\"success\"][ts], (-1, 36))\n",
    "    \n",
    "    def gen(self, size, value):\n",
    "        return np.asarray([value]*size)\n",
    "        \n",
    "    def viz_mat_data(self, ts, fname):\n",
    "        print(time.ctime(ts), len(self.outliers_db[ts]), self.outliers_db[ts])\n",
    "        s_db = {}\n",
    "        p_db = {}\n",
    "        h_db = {}\n",
    "        file_ts = ts - 6*3600\n",
    "        s_db[\"success\"] = pickle.load(open(self.scratch_dir + os.sep + time.strftime(\"%Y%m%d\", time.localtime(file_ts)) + \".success\", 'rb'))\n",
    "        h_db[\"success\"] = pickle.load(open(self.home_dir + os.sep + time.strftime(\"%Y%m%d\", time.localtime(file_ts)) + \".success\", 'rb'))\n",
    "        p_db[\"success\"] = pickle.load(open(self.projects_dir + os.sep + time.strftime(\"%Y%m%d\", time.localtime(file_ts)) + \".success\", 'rb'))\n",
    "        s_db[\"failed\"] = pickle.load(open(self.scratch_dir + os.sep + time.strftime(\"%Y%m%d\", time.localtime(file_ts)) + \".failed\", 'rb'))\n",
    "        h_db[\"failed\"] = pickle.load(open(self.home_dir + os.sep + time.strftime(\"%Y%m%d\", time.localtime(file_ts)) + \".failed\", 'rb'))\n",
    "        p_db[\"failed\"] = pickle.load(open(self.projects_dir + os.sep + time.strftime(\"%Y%m%d\", time.localtime(file_ts)) + \".failed\", 'rb'))\n",
    "#         data = np.reshape(s_db[\"success\"][ts], (-1, 360))\n",
    "#         fig_s_s, ax_s_s = plt.subplots(figsize=(18,4))\n",
    "#         sns.heatmap(data, fmt=\"d\",linewidths=.5,  ax = ax_s_s)\n",
    "#         data = np.reshape(s_db[\"failed\"][ts], (-1, 360))\n",
    "#         fig_s_f, ax_s_f = plt.subplots(figsize=(18,4))\n",
    "#         sns.heatmap(data, fmt=\"d\",linewidths=.5,  ax = ax_s_f)\n",
    "        fig_s, ax_s = plt.subplots(1,3)\n",
    "    \n",
    "        #data = np.reshape(s_db[\"failed\"][ts]/(s_db[\"success\"][ts] + s_db[\"failed\"][ts]) , (-1, 360))\n",
    "        data = np.reshape((self.gen(360*5,5)-np.clip(s_db[\"success\"][ts], 0, 5))/self.gen(360*5,5), (-1, 360))\n",
    "        \n",
    "        sns.heatmap(data, fmt=\"d\",cmap=\"Greys\",  ax = ax_s[0], vmin=0, vmax=1, cbar=False)\n",
    "        \n",
    "        ax_s[0].set_title(\"Scratch\")\n",
    "#         ax_s[0].set_xlabel(\"OST\")\n",
    "        ax_s[0].set_ylabel(\"Client\")\n",
    "        \n",
    "#         data = np.reshape(h_db[\"failed\"][ts]/(h_db[\"success\"][ts] + h_db[\"failed\"][ts]) , (-1, 36))\n",
    "        data = np.reshape((self.gen(36*5,5)-np.clip(h_db[\"success\"][ts], 0, 5))/self.gen(36*5,5), (-1, 36))\n",
    "    \n",
    "        sns.heatmap(data, fmt=\"d\",cmap=\"Greys\",  ax = ax_s[1], vmin=0, vmax=1, cbar=False)\n",
    "        \n",
    "        ax_s[1].set_title(\"Home\")\n",
    "#         ax_s[1].set_xlabel(\"OST\")\n",
    "        # ax_s[1].set_ylabel(\"Client\")\n",
    "        \n",
    "#         data = np.reshape(p_db[\"failed\"][ts]/(p_db[\"success\"][ts] + p_db[\"failed\"][ts]) , (-1, 36))\n",
    "        data = np.reshape((self.gen(36*5,5)-np.clip(p_db[\"success\"][ts], 0, 5))/self.gen(36*5,5), (-1, 36))\n",
    "        ax_s[2].set_title(\"Projects\")\n",
    "#         ax_s[2].set_xlabel(\"OST\")\n",
    "        # ax_s[2].set_ylabel(\"Client\")\n",
    "        \n",
    "        sns.heatmap(data, fmt=\"d\",cmap=\"Greys\",  ax = ax_s[2], vmin=0, vmax=1, cbar=True)\n",
    "        \n",
    "        fig_s.text(0.5, 0.01, 'OST', ha='center',  fontweight='bold')\n",
    "#         fig_s.text(0.01, 0.5, 'Client', va='center', rotation='vertical')\n",
    "        fig_s.tight_layout(pad=0.5)\n",
    "        output = fname\n",
    "        plt.savefig(output)\n",
    "        return fig_s\n",
    "        \n",
    "#         print(s_db)\n",
    "#         print(h_db)\n",
    "#         print(p_db)\n",
    "        "
   ]
  },
  {
   "cell_type": "code",
   "execution_count": 13,
   "metadata": {},
   "outputs": [],
   "source": [
    "v = Viz(\"outliers\", \"data_mat_500_300/\" )"
   ]
  },
  {
   "cell_type": "code",
   "execution_count": 17,
   "metadata": {},
   "outputs": [],
   "source": [
    "pickle.dump(v.outliers_db, open( \"outliers_db.pkl\", \"wb\" ) )"
   ]
  },
  {
   "cell_type": "code",
   "execution_count": 15,
   "metadata": {},
   "outputs": [
    {
     "name": "stdout",
     "output_type": "stream",
     "text": [
      "Tue Aug 14 18:55:00 2018 2 {'scratch_ost_208': 0.08, 'projects_mds': 0.0}\n"
     ]
    },
    {
     "data": {
      "image/png": "[encoded data removed]",
      "text/plain": [
       "<Figure size 280x96 with 4 Axes>"
      ]
     },
     "execution_count": 15,
     "metadata": {},
     "output_type": "execute_result"
    }
   ],
   "source": [
    "# MDS FIGURE\n",
    "v.viz_mat_data(1534272900, \"mds.pdf\")#\n",
    "# print(v.outliers_db)"
   ]
  },
  {
   "cell_type": "code",
   "execution_count": 17,
   "metadata": {},
   "outputs": [
    {
     "name": "stdout",
     "output_type": "stream",
     "text": [
      "Fri Jun 30 15:20:00 2017 1 {'projects_ost_2': 0.0}\n"
     ]
    },
    {
     "data": {
      "image/png": "[encoded data removed]",
      "text/plain": [
       "<Figure size 280x96 with 4 Axes>"
      ]
     },
     "execution_count": 17,
     "metadata": {},
     "output_type": "execute_result"
    }
   ],
   "source": [
    "# Gem Net FIGURE\n",
    "v.viz_mat_data(1498836000, \"net.pdf\")#\n",
    "# print(v.outliers_db)"
   ]
  },
  {
   "cell_type": "code",
   "execution_count": 7,
   "metadata": {},
   "outputs": [
    {
     "name": "stdout",
     "output_type": "stream",
     "text": [
      "Wed May 17 04:40:00 2017 1 {'client3': 0.0008294525848127358}\n"
     ]
    },
    {
     "data": {
      "image/png": "[encoded data removed]",
      "text/plain": [
       "<Figure size 280x96 with 4 Axes>"
      ]
     },
     "execution_count": 7,
     "metadata": {},
     "output_type": "execute_result"
    }
   ],
   "source": [
    "#IB NET\n",
    "v.viz_mat_data(1494996000, \"ibnet.pdf\")#"
   ]
  },
  {
   "cell_type": "code",
   "execution_count": 8,
   "metadata": {},
   "outputs": [
    {
     "name": "stdout",
     "output_type": "stream",
     "text": [
      "Tue Jan 24 17:55:00 2017 3 {'ib_status': 0.008072004644290783, 'gem_status': 0.008072004644290783, 'scratch_mds': 0.1576843604035618}\n"
     ]
    },
    {
     "data": {
      "image/png": "[encoded data removed]",
      "text/plain": [
       "<Figure size 280x96 with 4 Axes>"
      ]
     },
     "execution_count": 8,
     "metadata": {},
     "output_type": "execute_result"
    }
   ],
   "source": [
    "# IB + GEM\n",
    "v.viz_mat_data(1485280500, \"ibgem.pdf\")#"
   ]
  },
  {
   "cell_type": "code",
   "execution_count": null,
   "metadata": {},
   "outputs": [],
   "source": []
  }
 ],
 "metadata": {
  "kernelspec": {
   "display_name": "Python 3",
   "language": "python",
   "name": "python3"
  },
  "language_info": {
   "codemirror_mode": {
    "name": "ipython",
    "version": 3
   },
   "file_extension": ".py",
   "mimetype": "text/x-python",
   "name": "python",
   "nbconvert_exporter": "python",
   "pygments_lexer": "ipython3",
   "version": "3.7.3"
  }
 },
 "nbformat": 4,
 "nbformat_minor": 4
}