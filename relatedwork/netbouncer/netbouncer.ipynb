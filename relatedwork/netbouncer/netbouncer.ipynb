{
 "cells": [
  {
   "cell_type": "markdown",
   "metadata": {},
   "source": [
    "### Netbouncer implementation based on the [NSDI paper](https://www.usenix.org/system/files/nsdi19spring_tan_prepub.pdf)\n",
    "The algorithm for Netbouncer is shown below and taken from the paper.\n",
    "\n",
    "\n",
    "\n",
    "<img src=\"resources/alg.png\" width=\"400px\" />"
   ]
  },
  {
   "cell_type": "markdown",
   "metadata": {},
   "source": [
    "### We are going to define a small system to verify our implementation and share it with the authors to validate it.\n",
    "\n",
    "<img src=\"resources/test-system.jpg\" width=\"500px\" />"
   ]
  },
  {
   "cell_type": "markdown",
   "metadata": {},
   "source": [
    "# Task 1 : Import libraries and enable/disable debug info"
   ]
  },
  {
   "cell_type": "code",
   "execution_count": 8,
   "metadata": {},
   "outputs": [],
   "source": [
    "import numpy as np\n",
    "DEBUG = False\n",
    "def print_debug(line):\n",
    "    if DEBUG:\n",
    "        print(line)"
   ]
  },
  {
   "cell_type": "markdown",
   "metadata": {},
   "source": [
    "# Task 2 : Define all functions\n",
    "\n",
    "* initialization function to init components health using failure observation on paths (init_prob)\n",
    "* cost function to check the fitting of X's health  (cost_func)\n",
    "* coordinate descent algo as described in the paper (fit)"
   ]
  },
  {
   "cell_type": "code",
   "execution_count": 9,
   "metadata": {},
   "outputs": [],
   "source": [
    "# def get_links(path_id):\n",
    "#     return paths[path_id]\n",
    "\n",
    "class NetBouncer:\n",
    "    def __init__(self, paths, Lambda, numMaxIterations, eps):\n",
    "        self.paths = paths\n",
    "        self.num_paths = len(paths)\n",
    "        self.numIterations = numMaxIterations\n",
    "        self.eps = eps\n",
    "        self.Lambda = Lambda\n",
    "        self.YObs = None\n",
    "        self.X = None\n",
    "        self.components = None\n",
    "        self.num_components = None\n",
    "        self.set_components_from_paths()\n",
    "    \n",
    "    def set_components_from_paths(self,):\n",
    "        components = [c for j in paths for c in paths[j] ]\n",
    "        self.components =  np.unique(components)\n",
    "        self.num_components = len(self.components)\n",
    "    \n",
    "    def init_prob(self,):\n",
    "        X = np.zeros(self.num_components)\n",
    "        for i in range(self.num_components):\n",
    "            X[i] = np.mean([self.YObs[j] for j in range(YObs.shape[0]) if i in self.paths[j]])\n",
    "        return X\n",
    "\n",
    "    \n",
    "    def cost_func(self):\n",
    "        L = np.sum([(self.YObs[j] - np.prod([self.X[i] for i in self.paths[j]]))**2 for j in range(self.YObs.shape[0])]) + \\\n",
    "            self.Lambda*(np.sum((self.X[i]*(1-self.X[i])) for i in range(self.num_components)))\n",
    "        return L\n",
    "\n",
    "    def fit(self, YObs):\n",
    "        self.YObs = YObs\n",
    "        self.X =  self.init_prob() \n",
    "        print_debug(\"initialized X to {}\".format(self.X))\n",
    "        R = np.zeros(self.num_components)\n",
    "        S = np.zeros(self.num_components)\n",
    "        T = np.zeros(self.num_components)\n",
    "        L_prev = self.cost_func()\n",
    "        L = 0\n",
    "        for k in range(self.numIterations):\n",
    "            print_debug(\"iteration {}\".format(k))\n",
    "            for i in range(self.num_components):\n",
    "                R[i] = 2*np.sum([np.prod([self.X[l] for l in self.paths[j] if l != i])**2 for j in range(self.YObs.shape[0]) if i in self.paths[j] ]) - \\\n",
    "                         2* self.Lambda\n",
    "                S[i] = 2*np.sum([np.prod([self.X[l] for l in self.paths[j] if l != i])*self.YObs[j] for j in range(self.YObs.shape[0]) if i in self.paths[j] ]) - \\\n",
    "                         self.Lambda\n",
    "                T = S/R\n",
    "                print_debug(\"R is {}\".format(R))\n",
    "                print_debug(\"S is {}\".format(S))\n",
    "                if R[i] == 0:\n",
    "                    if S[i] > 0:\n",
    "                        self.X[i] = 1\n",
    "                    else:\n",
    "                        self.X[i] = 0\n",
    "                elif R[i] > 0:\n",
    "                    if T[i] > 1:\n",
    "                        self.X[i] = 1\n",
    "                    elif T[i] < 0:\n",
    "                        self.X[i] = 0\n",
    "                    else:\n",
    "                        self.X[i] = T[i]\n",
    "                else:\n",
    "                    if T[i] > 1/2:\n",
    "                        self.X[i] = 0\n",
    "                    else:\n",
    "                        self.X[i] = 1\n",
    "            print_debug(self.X)\n",
    "            L = self.cost_func()\n",
    "            print_debug(\"L_prev: {}, L: {}\".format(L_prev, L))\n",
    "            if L_prev - L < self.eps: #eps:\n",
    "                break\n",
    "            L_prev = L\n",
    "        return self.X"
   ]
  },
  {
   "cell_type": "markdown",
   "metadata": {},
   "source": [
    "# Task 3: Specify system topology and paths"
   ]
  },
  {
   "cell_type": "code",
   "execution_count": 10,
   "metadata": {},
   "outputs": [],
   "source": [
    "paths = {}\n",
    "paths[0] = [0, 1, 2, 3]\n",
    "paths[1] = [0, 1, 2, 4]\n",
    "paths[2] = [5, 6, 2, 3]\n",
    "paths[3] = [5, 6, 2, 4]"
   ]
  },
  {
   "cell_type": "code",
   "execution_count": 11,
   "metadata": {},
   "outputs": [],
   "source": [
    "driver = NetBouncer(\n",
    "    paths, \n",
    "    1.0, # lambda\n",
    "    100, # numMaxIterations\n",
    "    1e-3 # convergence threshold\n",
    "    )"
   ]
  },
  {
   "cell_type": "markdown",
   "metadata": {},
   "source": [
    "# Task 4: Evaluate different failures and failure modes\n",
    "\n",
    "### specify YObs obtained on each path by calculating: ratio of successful requests/total requests on all paths"
   ]
  },
  {
   "cell_type": "markdown",
   "metadata": {},
   "source": [
    "## Task 4.1 : Failstop component 3"
   ]
  },
  {
   "cell_type": "code",
   "execution_count": 12,
   "metadata": {},
   "outputs": [
    {
     "output_type": "execute_result",
     "data": {
      "text/plain": "array([1., 1., 1., 0., 1., 1., 1.])"
     },
     "metadata": {},
     "execution_count": 12
    }
   ],
   "source": [
    "YObs = np.array([0.0, 1.0, 0.0, 1.0 ]) \n",
    "driver.fit(YObs)"
   ]
  },
  {
   "cell_type": "markdown",
   "metadata": {},
   "source": [
    "## Task 4.2 : Paritally fail component 3 and 6 (both dropping 75% of the requests"
   ]
  },
  {
   "cell_type": "code",
   "execution_count": 13,
   "metadata": {},
   "outputs": [
    {
     "output_type": "execute_result",
     "data": {
      "text/plain": "array([1., 1., 1., 0., 1., 1., 0.])"
     },
     "metadata": {},
     "execution_count": 13
    }
   ],
   "source": [
    "YObs = np.array([0.25, 1.0, 0.0625, 0.25 ])\n",
    "driver.fit(YObs)"
   ]
  },
  {
   "cell_type": "markdown",
   "metadata": {},
   "source": [
    "# Task 4.3: Partially fail component 3 and 6 at different thresholds (10 - 100%)"
   ]
  },
  {
   "cell_type": "code",
   "execution_count": 14,
   "metadata": {},
   "outputs": [
    {
     "output_type": "stream",
     "name": "stdout",
     "text": "Health info pc3: 0.1, pc6:0.1 is [1. 1. 1. 1. 1. 1. 1.]\nHealth info pc3: 0.1, pc6:0.2 is [1.         1.         0.97333333 1.         1.         1.\n 1.        ]\nHealth info pc3: 0.1, pc6:0.3 is [1.   1.   1.   1.   1.   1.   0.83]\nHealth info pc3: 0.1, pc6:0.4 is [1.   1.   1.   1.   1.   1.   0.64]\nHealth info pc3: 0.1, pc6:0.5 is [1.   1.   1.   1.   1.   1.   0.45]\nHealth info pc3: 0.1, pc6:0.6 is [1.   1.   1.   1.   1.   1.   0.26]\nHealth info pc3: 0.1, pc6:0.7 is [1.   1.   1.   1.   1.   1.   0.07]\nHealth info pc3: 0.1, pc6:0.8 is [1. 1. 1. 1. 1. 1. 0.]\nHealth info pc3: 0.1, pc6:0.9 is [1. 1. 1. 1. 1. 1. 0.]\nHealth info pc3: 0.2, pc6:0.1 is [1.         1.         0.97333333 1.         1.         1.\n 1.        ]\nHealth info pc3: 0.2, pc6:0.2 is [1.         1.         0.91333333 1.         1.         1.\n 1.        ]\nHealth info pc3: 0.2, pc6:0.3 is [1.   1.   1.   1.   1.   1.   0.76]\nHealth info pc3: 0.2, pc6:0.4 is [1.   1.   1.   1.   1.   1.   0.58]\nHealth info pc3: 0.2, pc6:0.5 is [1.  1.  1.  1.  1.  1.  0.4]\nHealth info pc3: 0.2, pc6:0.6 is [1.   1.   1.   1.   1.   1.   0.22]\nHealth info pc3: 0.2, pc6:0.7 is [1.   1.   1.   1.   1.   1.   0.04]\nHealth info pc3: 0.2, pc6:0.8 is [1. 1. 1. 1. 1. 1. 0.]\nHealth info pc3: 0.2, pc6:0.9 is [1. 1. 1. 1. 1. 1. 0.]\nHealth info pc3: 0.3, pc6:0.1 is [1.   1.   0.91 1.   1.   1.   1.  ]\nHealth info pc3: 0.3, pc6:0.2 is [1.         1.         0.85333333 1.         1.         1.\n 1.        ]\nHealth info pc3: 0.3, pc6:0.3 is [1.   1.   1.   1.   1.   1.   0.69]\nHealth info pc3: 0.3, pc6:0.4 is [1.   1.   1.   1.   1.   1.   0.52]\nHealth info pc3: 0.3, pc6:0.5 is [1.   1.   1.   1.   1.   1.   0.35]\nHealth info pc3: 0.3, pc6:0.6 is [1.   1.   1.   1.   1.   1.   0.18]\nHealth info pc3: 0.3, pc6:0.7 is [1.   1.   1.   1.   1.   1.   0.01]\nHealth info pc3: 0.3, pc6:0.8 is [1. 1. 1. 1. 1. 1. 0.]\nHealth info pc3: 0.3, pc6:0.9 is [1. 1. 1. 1. 1. 1. 0.]\nHealth info pc3: 0.4, pc6:0.1 is [1.         1.         0.84666667 1.         1.         1.\n 1.        ]\nHealth info pc3: 0.4, pc6:0.2 is [1.         1.         0.79333333 1.         1.         1.\n 1.        ]\nHealth info pc3: 0.4, pc6:0.3 is [1.   1.   1.   0.52 1.   1.   1.  ]\nHealth info pc3: 0.4, pc6:0.4 is [1.   1.   1.   1.   1.   1.   0.46]\nHealth info pc3: 0.4, pc6:0.5 is [1.  1.  1.  1.  1.  1.  0.3]\nHealth info pc3: 0.4, pc6:0.6 is [1.   1.   1.   1.   1.   1.   0.14]\nHealth info pc3: 0.4, pc6:0.7 is [1. 1. 1. 1. 1. 1. 0.]\nHealth info pc3: 0.4, pc6:0.8 is [1. 1. 1. 1. 1. 1. 0.]\nHealth info pc3: 0.4, pc6:0.9 is [1. 1. 1. 1. 1. 1. 0.]\nHealth info pc3: 0.5, pc6:0.1 is [1.   1.   1.   0.45 1.   1.   1.  ]\nHealth info pc3: 0.5, pc6:0.2 is [1.  1.  1.  0.4 1.  1.  1. ]\nHealth info pc3: 0.5, pc6:0.3 is [1.   1.   1.   0.35 1.   1.   1.  ]\nHealth info pc3: 0.5, pc6:0.4 is [1.  1.  1.  0.3 1.  1.  1. ]\nHealth info pc3: 0.5, pc6:0.5 is [1.   1.   1.   1.   1.   1.   0.25]\nHealth info pc3: 0.5, pc6:0.6 is [1.  1.  1.  1.  1.  1.  0.1]\nHealth info pc3: 0.6, pc6:0.1 is [1.   1.   1.   0.26 1.   1.   1.  ]\nHealth info pc3: 0.6, pc6:0.2 is [1.   1.   1.   0.22 1.   1.   1.  ]\nHealth info pc3: 0.6, pc6:0.3 is [1.   1.   1.   0.18 1.   1.   1.  ]\nHealth info pc3: 0.6, pc6:0.4 is [1.   1.   1.   0.14 1.   1.   1.  ]\nHealth info pc3: 0.7, pc6:0.1 is [1.   1.   1.   0.07 1.   1.   1.  ]\nHealth info pc3: 0.7, pc6:0.2 is [1.   1.   1.   0.04 1.   1.   1.  ]\nHealth info pc3: 0.7, pc6:0.3 is [1.   1.   1.   0.01 1.   1.   1.  ]\nHealth info pc3: 0.7, pc6:0.4 is [1. 1. 1. 0. 1. 1. 1.]\nHealth info pc3: 0.8, pc6:0.1 is [1. 1. 1. 0. 1. 1. 1.]\nHealth info pc3: 0.8, pc6:0.2 is [1. 1. 1. 0. 1. 1. 1.]\nHealth info pc3: 0.8, pc6:0.3 is [1. 1. 1. 0. 1. 1. 1.]\nHealth info pc3: 0.8, pc6:0.4 is [1. 1. 1. 0. 1. 1. 1.]\nHealth info pc3: 0.9, pc6:0.1 is [1. 1. 1. 0. 1. 1. 1.]\nHealth info pc3: 0.9, pc6:0.2 is [1. 1. 1. 0. 1. 1. 1.]\nHealth info pc3: 0.9, pc6:0.3 is [1. 1. 1. 0. 1. 1. 1.]\nHealth info pc3: 0.9, pc6:0.4 is [1. 1. 1. 0. 1. 1. 1.]\n"
    }
   ],
   "source": [
    "for c3 in range (10, 100, 10):\n",
    "    for c6 in range(10, 100, 10):\n",
    "        pc3 = c3/100.0\n",
    "        pc6 = c6/100.0\n",
    "        YObs =  np.array([1-pc3, 1.0, (1-pc3)*(1-pc6), (1-pc6)])\n",
    "        componentHealth = driver.fit(YObs)\n",
    "        if componentHealth[3] != 0 or componentHealth[6] != 0 :\n",
    "            print(\"Health info pc3: {}, pc6:{} is {}\".format(pc3, pc6, componentHealth))"
   ]
  },
  {
   "cell_type": "code",
   "execution_count": null,
   "metadata": {},
   "outputs": [],
   "source": []
  }
 ],
 "metadata": {
  "kernelspec": {
   "display_name": "Python 3",
   "language": "python",
   "name": "python3"
  },
  "language_info": {
   "codemirror_mode": {
    "name": "ipython",
    "version": 3
   },
   "file_extension": ".py",
   "mimetype": "text/x-python",
   "name": "python",
   "nbconvert_exporter": "python",
   "pygments_lexer": "ipython3",
   "version": "3.7.6-final"
  }
 },
 "nbformat": 4,
 "nbformat_minor": 4
}